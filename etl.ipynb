{
 "nbformat": 4,
 "nbformat_minor": 2,
 "metadata": {
  "language_info": {
   "name": "python",
   "codemirror_mode": {
    "name": "ipython",
    "version": 3
   },
   "version": "3.6.3-final"
  },
  "orig_nbformat": 2,
  "file_extension": ".py",
  "mimetype": "text/x-python",
  "name": "python",
  "npconvert_exporter": "python",
  "pygments_lexer": "ipython3",
  "version": 3,
  "kernelspec": {
   "name": "python36364bit42e2586362ca46e7a713603abb5bd65f",
   "display_name": "Python 3.6.3 64-bit"
  }
 },
 "cells": [
  {
   "cell_type": "code",
   "execution_count": 2,
   "metadata": {},
   "outputs": [],
   "source": [
    "import os\n",
    "import glob\n",
    "import psycopg2\n",
    "import pandas as pd\n",
    "#from sql_queries import *"
   ]
  },
  {
   "cell_type": "code",
   "execution_count": 7,
   "metadata": {},
   "outputs": [],
   "source": [
    "import boto3\n",
    "import configparser"
   ]
  },
  {
   "cell_type": "code",
   "execution_count": 12,
   "metadata": {},
   "outputs": [],
   "source": [
    "# Load credentials from config file\n",
    "config_aws_cred = configparser.ConfigParser()\n",
    "try:\n",
    "    config_aws_cred.read_file(open('redshift/aws_do_not_share.cfg'))\n",
    "except Exception as e:\n",
    "    print(e)\n",
    "\n",
    "# load redshift cluster config settings from config file\n",
    "config_redshift = configparser.ConfigParser()\n",
    "try:\n",
    "    config_redshift.read_file(open('redshift/aws_setup.cfg'))\n",
    "except Exception as e:\n",
    "    print(e)\n",
    "\n",
    "# Load DWH Params from config file\n",
    "config_dwh = configparser.ConfigParser()\n",
    "try:\n",
    "    config_dwh.read_file(open('redshift/dwh.cfg'))\n",
    "except Exception as e:\n",
    "    print(e)\n",
    "\n",
    "KEY                    = config_aws_cred.get('AWS','KEY')\n",
    "SECRET                 = config_aws_cred.get('AWS','SECRET')\n",
    "\n",
    "DWH_CLUSTER_TYPE       = config_redshift.get(\"SETUP\", \"DWH_CLUSTER_TYPE\")\n",
    "DWH_NUM_NODES          = config_redshift.get(\"SETUP\",\"DWH_NUM_NODES\")\n",
    "DWH_NODE_TYPE          = config_redshift.get(\"SETUP\",\"DWH_NODE_TYPE\")\n",
    "DWH_CLUSTER_IDENTIFIER = config_redshift.get(\"SETUP\",\"DWH_CLUSTER_IDENTIFIER\")\n",
    "DWH_IAM_ROLE_NAME      = config_redshift.get(\"SETUP\", \"DWH_IAM_ROLE_NAME\")\n",
    "\n",
    "DWH_DB                 = config_dwh.get(\"CLUSTER\",\"DB_NAME\")\n",
    "DWH_DB_USER            = config_dwh.get(\"CLUSTER\",\"DB_USER\")\n",
    "DWH_DB_PASSWORD        = config_dwh.get(\"CLUSTER\",\"DB_PASSWORD\")\n",
    "DWH_PORT               = config_dwh.get(\"CLUSTER\",\"DB_PORT\")\n",
    "\n",
    "S3_LOG_DATA            = config_dwh.get(\"S3\",\"LOG_DATA\")\n",
    "S3_LOG_JSONPATH        = config_dwh.get(\"S3\",\"LOG_JSONPATH\")\n",
    "S3_SONG_DATA           = config_dwh.get(\"S3\",\"SONG_DATA\")\n",
    "\n"
   ]
  },
  {
   "cell_type": "code",
   "execution_count": 10,
   "metadata": {},
   "outputs": [],
   "source": [
    "s3 = boto3.resource('s3',\n",
    "                       region_name=\"us-west-2\",\n",
    "                       aws_access_key_id=KEY,\n",
    "                       aws_secret_access_key=SECRET\n",
    "                   )"
   ]
  },
  {
   "cell_type": "code",
   "execution_count": 31,
   "metadata": {},
   "outputs": [
    {
     "name": "stdout",
     "output_type": "stream",
     "text": "s3.ObjectSummary(bucket_name='udacity-dend', key='log_json_path.json')\n"
    }
   ],
   "source": [
    "sampleDbBucket =  s3.Bucket('udacity-dend')\n",
    "for obj in sampleDbBucket.objects.filter(Prefix=\"log_json_path.json\"):\n",
    "    print(obj)\n",
    "\n",
    "#length = sum(1 for _ in sampleDbBucket.objects.filter(Prefix=\"log_json_path.json\"))\n",
    "#print(length)\n",
    "\n",
    "#length2 = sum(1 for _ in sampleDbBucket.objects.all())\n",
    "#print(length2)"
   ]
  },
  {
   "cell_type": "code",
   "execution_count": 34,
   "metadata": {},
   "outputs": [],
   "source": [
    "s3.Bucket('udacity-dend').download_file('log_json_path.json','log_json_path.json')"
   ]
  }
 ]
}